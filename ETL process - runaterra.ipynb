{
 "cells": [
  {
   "cell_type": "code",
   "execution_count": 1,
   "id": "6c906474-ca65-4f40-862c-82cdbeadb13e",
   "metadata": {},
   "outputs": [
    {
     "name": "stderr",
     "output_type": "stream",
     "text": [
      "WARNING:root:'PYARROW_IGNORE_TIMEZONE' environment variable was not set. It is required to set this environment variable to '1' in both driver and executor sides if you use pyarrow>=2.0.0. pandas-on-Spark will set it for you but it does not work if there is a Spark context already launched.\n"
     ]
    }
   ],
   "source": [
    "import pandas as pd\n",
    "pd.set_option('display.max_columns', None)\n",
    "import pyspark.pandas as ppd\n",
    "#pd.set_option('display.max_rows', None)"
   ]
  },
  {
   "cell_type": "code",
   "execution_count": 2,
   "id": "ebcb4637-b194-4119-a96f-9b2304f1bcd8",
   "metadata": {
    "tags": []
   },
   "outputs": [
    {
     "name": "stdout",
     "output_type": "stream",
     "text": [
      "----------------------------------------------------------\n",
      "(90, 22)\n"
     ]
    },
    {
     "data": {
      "text/plain": [
       "region_1                 0\n",
       "region_2                59\n",
       "attack                   0\n",
       "cost                     0\n",
       "health                   0\n",
       "effect                   7\n",
       "level_up_description    82\n",
       "flavor_text              0\n",
       "artist_name              0\n",
       "card_name                0\n",
       "card_code                0\n",
       "keyword_1               33\n",
       "keyword_2               88\n",
       "keyword_3               90\n",
       "spell_speed             66\n",
       "rarity                   0\n",
       "affiliation             43\n",
       "type                     0\n",
       "collectible              0\n",
       "set_number               0\n",
       "set_name                 0\n",
       "level                   75\n",
       "dtype: int64"
      ]
     },
     "metadata": {},
     "output_type": "display_data"
    },
    {
     "name": "stdout",
     "output_type": "stream",
     "text": [
      "----------------------------------------------------------\n",
      "(145, 22)\n"
     ]
    },
    {
     "data": {
      "text/plain": [
       "region_1                  0\n",
       "region_2                142\n",
       "attack                    0\n",
       "cost                      0\n",
       "health                    0\n",
       "effect                   11\n",
       "level_up_description    137\n",
       "flavor_text               0\n",
       "artist_name               0\n",
       "card_name                 0\n",
       "card_code                 0\n",
       "keyword_1                30\n",
       "keyword_2               119\n",
       "keyword_3               145\n",
       "spell_speed              90\n",
       "rarity                    0\n",
       "affiliation             104\n",
       "type                      0\n",
       "collectible               0\n",
       "set_number                0\n",
       "set_name                  0\n",
       "level                   129\n",
       "dtype: int64"
      ]
     },
     "metadata": {},
     "output_type": "display_data"
    },
    {
     "name": "stdout",
     "output_type": "stream",
     "text": [
      "----------------------------------------------------------\n",
      "(118, 22)\n"
     ]
    },
    {
     "data": {
      "text/plain": [
       "region_1                  0\n",
       "region_2                113\n",
       "attack                    0\n",
       "cost                      0\n",
       "health                    0\n",
       "effect                   19\n",
       "level_up_description    110\n",
       "flavor_text               0\n",
       "artist_name               0\n",
       "card_name                 0\n",
       "card_code                 0\n",
       "keyword_1                33\n",
       "keyword_2               109\n",
       "keyword_3               117\n",
       "spell_speed              77\n",
       "rarity                    0\n",
       "affiliation              81\n",
       "type                      0\n",
       "collectible               0\n",
       "set_number                0\n",
       "set_name                  0\n",
       "level                   102\n",
       "dtype: int64"
      ]
     },
     "metadata": {},
     "output_type": "display_data"
    },
    {
     "name": "stdout",
     "output_type": "stream",
     "text": [
      "----------------------------------------------------------\n",
      "(129, 22)\n"
     ]
    },
    {
     "data": {
      "text/plain": [
       "region_1                  0\n",
       "region_2                127\n",
       "attack                    0\n",
       "cost                      0\n",
       "health                    0\n",
       "effect                   14\n",
       "level_up_description    121\n",
       "flavor_text               0\n",
       "artist_name               0\n",
       "card_name                 0\n",
       "card_code                 0\n",
       "keyword_1                36\n",
       "keyword_2               120\n",
       "keyword_3               128\n",
       "spell_speed              85\n",
       "rarity                    0\n",
       "affiliation              83\n",
       "type                      0\n",
       "collectible               0\n",
       "set_number                0\n",
       "set_name                  0\n",
       "level                   115\n",
       "dtype: int64"
      ]
     },
     "metadata": {},
     "output_type": "display_data"
    },
    {
     "name": "stdout",
     "output_type": "stream",
     "text": [
      "----------------------------------------------------------\n",
      "(129, 22)\n"
     ]
    },
    {
     "data": {
      "text/plain": [
       "region_1                  0\n",
       "region_2                127\n",
       "attack                    0\n",
       "cost                      0\n",
       "health                    0\n",
       "effect                   14\n",
       "level_up_description    122\n",
       "flavor_text               2\n",
       "artist_name               0\n",
       "card_name                 0\n",
       "card_code                 0\n",
       "keyword_1                39\n",
       "keyword_2               119\n",
       "keyword_3               129\n",
       "spell_speed              79\n",
       "rarity                    0\n",
       "affiliation              89\n",
       "type                      0\n",
       "collectible               0\n",
       "set_number                0\n",
       "set_name                  0\n",
       "level                   115\n",
       "dtype: int64"
      ]
     },
     "metadata": {},
     "output_type": "display_data"
    },
    {
     "name": "stdout",
     "output_type": "stream",
     "text": [
      "----------------------------------------------------------\n",
      "(140, 22)\n"
     ]
    },
    {
     "data": {
      "text/plain": [
       "region_1                  0\n",
       "region_2                139\n",
       "attack                    0\n",
       "cost                      0\n",
       "health                    0\n",
       "effect                   14\n",
       "level_up_description    132\n",
       "flavor_text               0\n",
       "artist_name               0\n",
       "card_name                 0\n",
       "card_code                 0\n",
       "keyword_1                40\n",
       "keyword_2               134\n",
       "keyword_3               140\n",
       "spell_speed              90\n",
       "rarity                    0\n",
       "affiliation             101\n",
       "type                      0\n",
       "collectible               0\n",
       "set_number                0\n",
       "set_name                  0\n",
       "level                   124\n",
       "dtype: int64"
      ]
     },
     "metadata": {},
     "output_type": "display_data"
    },
    {
     "name": "stdout",
     "output_type": "stream",
     "text": [
      "----------------------------------------------------------\n",
      "(174, 22)\n"
     ]
    },
    {
     "data": {
      "text/plain": [
       "region_1                  0\n",
       "region_2                168\n",
       "attack                    0\n",
       "cost                      0\n",
       "health                    0\n",
       "effect                   20\n",
       "level_up_description    165\n",
       "flavor_text               0\n",
       "artist_name               0\n",
       "card_name                 0\n",
       "card_code                 0\n",
       "keyword_1                48\n",
       "keyword_2               162\n",
       "keyword_3               173\n",
       "spell_speed             112\n",
       "rarity                    0\n",
       "affiliation             149\n",
       "type                      0\n",
       "collectible               1\n",
       "set_number                0\n",
       "set_name                  0\n",
       "level                   156\n",
       "dtype: int64"
      ]
     },
     "metadata": {},
     "output_type": "display_data"
    },
    {
     "name": "stdout",
     "output_type": "stream",
     "text": [
      "----------------------------------------------------------\n",
      "(150, 22)\n"
     ]
    },
    {
     "data": {
      "text/plain": [
       "region_1                  0\n",
       "region_2                145\n",
       "attack                    0\n",
       "cost                      0\n",
       "health                    0\n",
       "effect                   14\n",
       "level_up_description    140\n",
       "flavor_text               0\n",
       "artist_name               0\n",
       "card_name                 0\n",
       "card_code                 0\n",
       "keyword_1                34\n",
       "keyword_2               137\n",
       "keyword_3               148\n",
       "spell_speed              98\n",
       "rarity                    1\n",
       "affiliation             126\n",
       "type                      0\n",
       "collectible               0\n",
       "set_number                0\n",
       "set_name                  0\n",
       "level                   130\n",
       "dtype: int64"
      ]
     },
     "metadata": {},
     "output_type": "display_data"
    },
    {
     "name": "stdout",
     "output_type": "stream",
     "text": [
      "----------------------------------------------------------\n",
      "(181, 22)\n"
     ]
    },
    {
     "data": {
      "text/plain": [
       "region_1                  0\n",
       "region_2                175\n",
       "attack                    0\n",
       "cost                      0\n",
       "health                    0\n",
       "effect                   10\n",
       "level_up_description    167\n",
       "flavor_text               6\n",
       "artist_name               1\n",
       "card_name                 0\n",
       "card_code                 0\n",
       "keyword_1                46\n",
       "keyword_2               162\n",
       "keyword_3               181\n",
       "spell_speed             108\n",
       "rarity                    1\n",
       "affiliation             149\n",
       "type                      0\n",
       "collectible               0\n",
       "set_number                0\n",
       "set_name                  0\n",
       "level                   157\n",
       "dtype: int64"
      ]
     },
     "metadata": {},
     "output_type": "display_data"
    },
    {
     "name": "stdout",
     "output_type": "stream",
     "text": [
      "----------------------------------------------------------\n",
      "(155, 22)\n"
     ]
    },
    {
     "data": {
      "text/plain": [
       "region_1                  0\n",
       "region_2                154\n",
       "attack                    0\n",
       "cost                      0\n",
       "health                    0\n",
       "effect                   12\n",
       "level_up_description    147\n",
       "flavor_text               0\n",
       "artist_name               0\n",
       "card_name                 0\n",
       "card_code                 0\n",
       "keyword_1                40\n",
       "keyword_2               143\n",
       "keyword_3               154\n",
       "spell_speed              90\n",
       "rarity                    0\n",
       "affiliation             108\n",
       "type                      0\n",
       "collectible               0\n",
       "set_number                0\n",
       "set_name                  0\n",
       "level                   139\n",
       "dtype: int64"
      ]
     },
     "metadata": {},
     "output_type": "display_data"
    }
   ],
   "source": [
    "import os \n",
    "regions_data = { region_name.split('_')[2]: pd.read_csv('LOR/regions/' + region_name) for region_name in  os.listdir('LOR/regions/') }\n",
    "for key in list(regions_data.keys()):\n",
    "    print('----------------------------------------------------------')\n",
    "    print(regions_data[key].shape)\n",
    "    display(regions_data[key].isna().sum())"
   ]
  },
  {
   "cell_type": "code",
   "execution_count": 3,
   "id": "54a6cf75-09fe-429e-82e0-3f825e05f7ff",
   "metadata": {
    "tags": []
   },
   "outputs": [
    {
     "data": {
      "text/html": [
       "<div>\n",
       "<style scoped>\n",
       "    .dataframe tbody tr th:only-of-type {\n",
       "        vertical-align: middle;\n",
       "    }\n",
       "\n",
       "    .dataframe tbody tr th {\n",
       "        vertical-align: top;\n",
       "    }\n",
       "\n",
       "    .dataframe thead th {\n",
       "        text-align: right;\n",
       "    }\n",
       "</style>\n",
       "<table border=\"1\" class=\"dataframe\">\n",
       "  <thead>\n",
       "    <tr style=\"text-align: right;\">\n",
       "      <th></th>\n",
       "      <th>region_1</th>\n",
       "      <th>region_2</th>\n",
       "      <th>attack</th>\n",
       "      <th>cost</th>\n",
       "      <th>health</th>\n",
       "      <th>effect</th>\n",
       "      <th>level_up_description</th>\n",
       "      <th>flavor_text</th>\n",
       "      <th>artist_name</th>\n",
       "      <th>card_name</th>\n",
       "      <th>card_code</th>\n",
       "      <th>keyword_1</th>\n",
       "      <th>keyword_2</th>\n",
       "      <th>keyword_3</th>\n",
       "      <th>spell_speed</th>\n",
       "      <th>rarity</th>\n",
       "      <th>affiliation</th>\n",
       "      <th>type</th>\n",
       "      <th>collectible</th>\n",
       "      <th>set_number</th>\n",
       "      <th>set_name</th>\n",
       "      <th>level</th>\n",
       "    </tr>\n",
       "  </thead>\n",
       "  <tbody>\n",
       "    <tr>\n",
       "      <th>0</th>\n",
       "      <td>Bandle City</td>\n",
       "      <td>NaN</td>\n",
       "      <td>0</td>\n",
       "      <td>0</td>\n",
       "      <td>0</td>\n",
       "      <td>Destroy an allied landmark to deal 3 to anything.</td>\n",
       "      <td>NaN</td>\n",
       "      <td>\"... turns out, HE was a huge hexplosives fan,...</td>\n",
       "      <td>Kudos Productions</td>\n",
       "      <td>Inspection Passed!</td>\n",
       "      <td>05BC212T1</td>\n",
       "      <td>Slow</td>\n",
       "      <td>Fleeting</td>\n",
       "      <td>NaN</td>\n",
       "      <td>NaN</td>\n",
       "      <td>None</td>\n",
       "      <td>NaN</td>\n",
       "      <td>Spell</td>\n",
       "      <td>False</td>\n",
       "      <td>5</td>\n",
       "      <td>Beyond The Bandlewood</td>\n",
       "      <td>NaN</td>\n",
       "    </tr>\n",
       "    <tr>\n",
       "      <th>1</th>\n",
       "      <td>Bandle City</td>\n",
       "      <td>NaN</td>\n",
       "      <td>0</td>\n",
       "      <td>1</td>\n",
       "      <td>0</td>\n",
       "      <td>Deal 1 to a unit. If you have 4+ allies, deal ...</td>\n",
       "      <td>NaN</td>\n",
       "      <td>\"Okay, this one's for the newsletter. And reme...</td>\n",
       "      <td>Kudos Productions</td>\n",
       "      <td>Group Shot</td>\n",
       "      <td>05BC198</td>\n",
       "      <td>Fast</td>\n",
       "      <td>NaN</td>\n",
       "      <td>NaN</td>\n",
       "      <td>NaN</td>\n",
       "      <td>Common</td>\n",
       "      <td>NaN</td>\n",
       "      <td>Spell</td>\n",
       "      <td>True</td>\n",
       "      <td>5</td>\n",
       "      <td>Beyond The Bandlewood</td>\n",
       "      <td>NaN</td>\n",
       "    </tr>\n",
       "    <tr>\n",
       "      <th>2</th>\n",
       "      <td>Bandle City</td>\n",
       "      <td>NaN</td>\n",
       "      <td>0</td>\n",
       "      <td>1</td>\n",
       "      <td>0</td>\n",
       "      <td>When I’m summoned or destroyed, Stun the Keywo...</td>\n",
       "      <td>NaN</td>\n",
       "      <td>\"What do you mean, 'this doesn't look safe'?\" ...</td>\n",
       "      <td>Kudos Productions</td>\n",
       "      <td>Hexplosive Minefield</td>\n",
       "      <td>05BC027</td>\n",
       "      <td>Landmark</td>\n",
       "      <td>NaN</td>\n",
       "      <td>NaN</td>\n",
       "      <td>NaN</td>\n",
       "      <td>Common</td>\n",
       "      <td>NaN</td>\n",
       "      <td>Landmark</td>\n",
       "      <td>True</td>\n",
       "      <td>5</td>\n",
       "      <td>Beyond The Bandlewood</td>\n",
       "      <td>NaN</td>\n",
       "    </tr>\n",
       "    <tr>\n",
       "      <th>3</th>\n",
       "      <td>Bandle City</td>\n",
       "      <td>NaN</td>\n",
       "      <td>2</td>\n",
       "      <td>1</td>\n",
       "      <td>1</td>\n",
       "      <td>When I’m summoned, summon a Scrappy Bomb.</td>\n",
       "      <td>NaN</td>\n",
       "      <td>Giselle was one of Professor Heimerdinger's be...</td>\n",
       "      <td>Kudos Productions</td>\n",
       "      <td>Inventive Chemist</td>\n",
       "      <td>05BC073</td>\n",
       "      <td>NaN</td>\n",
       "      <td>NaN</td>\n",
       "      <td>NaN</td>\n",
       "      <td>NaN</td>\n",
       "      <td>Common</td>\n",
       "      <td>Yordle</td>\n",
       "      <td>Unit</td>\n",
       "      <td>True</td>\n",
       "      <td>5</td>\n",
       "      <td>Beyond The Bandlewood</td>\n",
       "      <td>NaN</td>\n",
       "    </tr>\n",
       "    <tr>\n",
       "      <th>4</th>\n",
       "      <td>Bandle City</td>\n",
       "      <td>NaN</td>\n",
       "      <td>0</td>\n",
       "      <td>1</td>\n",
       "      <td>0</td>\n",
       "      <td>Countdown 3 or when I'm destroyed: Deal 1 to t...</td>\n",
       "      <td>NaN</td>\n",
       "      <td>\"It's a real work of art, isn't it!\" - Giselle...</td>\n",
       "      <td>Kudos Productions</td>\n",
       "      <td>Scrappy Bomb</td>\n",
       "      <td>05BC073T1</td>\n",
       "      <td>NaN</td>\n",
       "      <td>NaN</td>\n",
       "      <td>NaN</td>\n",
       "      <td>NaN</td>\n",
       "      <td>None</td>\n",
       "      <td>NaN</td>\n",
       "      <td>Landmark</td>\n",
       "      <td>False</td>\n",
       "      <td>5</td>\n",
       "      <td>Beyond The Bandlewood</td>\n",
       "      <td>NaN</td>\n",
       "    </tr>\n",
       "  </tbody>\n",
       "</table>\n",
       "</div>"
      ],
      "text/plain": [
       "      region_1 region_2  attack  cost  health  \\\n",
       "0  Bandle City      NaN       0     0       0   \n",
       "1  Bandle City      NaN       0     1       0   \n",
       "2  Bandle City      NaN       0     1       0   \n",
       "3  Bandle City      NaN       2     1       1   \n",
       "4  Bandle City      NaN       0     1       0   \n",
       "\n",
       "                                              effect level_up_description  \\\n",
       "0  Destroy an allied landmark to deal 3 to anything.                  NaN   \n",
       "1  Deal 1 to a unit. If you have 4+ allies, deal ...                  NaN   \n",
       "2  When I’m summoned or destroyed, Stun the Keywo...                  NaN   \n",
       "3          When I’m summoned, summon a Scrappy Bomb.                  NaN   \n",
       "4  Countdown 3 or when I'm destroyed: Deal 1 to t...                  NaN   \n",
       "\n",
       "                                         flavor_text        artist_name  \\\n",
       "0  \"... turns out, HE was a huge hexplosives fan,...  Kudos Productions   \n",
       "1  \"Okay, this one's for the newsletter. And reme...  Kudos Productions   \n",
       "2  \"What do you mean, 'this doesn't look safe'?\" ...  Kudos Productions   \n",
       "3  Giselle was one of Professor Heimerdinger's be...  Kudos Productions   \n",
       "4  \"It's a real work of art, isn't it!\" - Giselle...  Kudos Productions   \n",
       "\n",
       "               card_name  card_code keyword_1 keyword_2  keyword_3  \\\n",
       "0     Inspection Passed!  05BC212T1     Slow   Fleeting        NaN   \n",
       "1             Group Shot    05BC198      Fast       NaN        NaN   \n",
       "2  Hexplosive Minefield     05BC027  Landmark       NaN        NaN   \n",
       "3      Inventive Chemist    05BC073       NaN       NaN        NaN   \n",
       "4           Scrappy Bomb  05BC073T1       NaN       NaN        NaN   \n",
       "\n",
       "  spell_speed  rarity affiliation      type  collectible  set_number  \\\n",
       "0         NaN    None         NaN     Spell        False           5   \n",
       "1         NaN  Common         NaN     Spell         True           5   \n",
       "2         NaN  Common         NaN  Landmark         True           5   \n",
       "3         NaN  Common      Yordle      Unit         True           5   \n",
       "4         NaN    None         NaN  Landmark        False           5   \n",
       "\n",
       "                set_name  level  \n",
       "0  Beyond The Bandlewood    NaN  \n",
       "1  Beyond The Bandlewood    NaN  \n",
       "2  Beyond The Bandlewood    NaN  \n",
       "3  Beyond The Bandlewood    NaN  \n",
       "4  Beyond The Bandlewood    NaN  "
      ]
     },
     "execution_count": 3,
     "metadata": {},
     "output_type": "execute_result"
    }
   ],
   "source": [
    "regions_data['bandlecity.csv'].head()"
   ]
  },
  {
   "cell_type": "code",
   "execution_count": 4,
   "id": "8b52f5e7-d818-43a4-92f0-a02d11792e23",
   "metadata": {
    "tags": []
   },
   "outputs": [
    {
     "name": "stdout",
     "output_type": "stream",
     "text": [
      "----------------------------------------------------------\n",
      "bandlecity.csv\n",
      "\n"
     ]
    },
    {
     "data": {
      "text/plain": [
       "region_1                0\n",
       "attack                  0\n",
       "cost                    0\n",
       "health                  0\n",
       "effect                  0\n",
       "level_up_description    0\n",
       "flavor_text             0\n",
       "artist_name             0\n",
       "card_name               0\n",
       "card_code               0\n",
       "keyword_1               0\n",
       "keyword_2               0\n",
       "keyword_3               0\n",
       "spell_speed             0\n",
       "rarity                  0\n",
       "affiliation             0\n",
       "type                    0\n",
       "collectible             0\n",
       "set_number              0\n",
       "set_name                0\n",
       "level                   0\n",
       "id                      0\n",
       "dtype: int64"
      ]
     },
     "metadata": {},
     "output_type": "display_data"
    },
    {
     "name": "stdout",
     "output_type": "stream",
     "text": [
      " \n",
      "Number of duplicated cards\n"
     ]
    },
    {
     "data": {
      "text/plain": [
       "05BC212T1-Inspection Passed!    1\n",
       "05BC163T4-Short Fuse            1\n",
       "03IO002T4-Help, Pix!            1\n",
       "02BW046T3-Fizz                  1\n",
       "02BW046-Fizz                    1\n",
       "                               ..\n",
       "05BC209-Stress Defense          1\n",
       "05BC146-Bandle Painter          1\n",
       "05BC116-Bandle City Mayor       1\n",
       "05BC184-Babbling Balladeers     1\n",
       "05BC010-Shark Trainer           1\n",
       "Name: id, Length: 90, dtype: int64"
      ]
     },
     "metadata": {},
     "output_type": "display_data"
    },
    {
     "name": "stdout",
     "output_type": "stream",
     "text": [
      "----------------------------------------------------------\n",
      "bilgewater.csv\n",
      "\n"
     ]
    },
    {
     "data": {
      "text/plain": [
       "region_1                0\n",
       "attack                  0\n",
       "cost                    0\n",
       "health                  0\n",
       "effect                  0\n",
       "level_up_description    0\n",
       "flavor_text             0\n",
       "artist_name             0\n",
       "card_name               0\n",
       "card_code               0\n",
       "keyword_1               0\n",
       "keyword_2               0\n",
       "keyword_3               0\n",
       "spell_speed             0\n",
       "rarity                  0\n",
       "affiliation             0\n",
       "type                    0\n",
       "collectible             0\n",
       "set_number              0\n",
       "set_name                0\n",
       "level                   0\n",
       "id                      0\n",
       "dtype: int64"
      ]
     },
     "metadata": {},
     "output_type": "display_data"
    },
    {
     "name": "stdout",
     "output_type": "stream",
     "text": [
      " \n",
      "Number of duplicated cards\n"
     ]
    },
    {
     "data": {
      "text/plain": [
       "02BW056T1-Devour               1\n",
       "02BW037-Abyssal Eye            1\n",
       "03BW004T2-An Acquired Taste    1\n",
       "03BW014-Monkey Business        1\n",
       "03BW007-Boxtopus               1\n",
       "                              ..\n",
       "02BW049-Pilfered Goods         1\n",
       "02BW063-Sleight of Hand        1\n",
       "02BW041-The Beast Below        1\n",
       "02BW011-Yordle Grifter         1\n",
       "05BC010-Shark Trainer          1\n",
       "Name: id, Length: 145, dtype: int64"
      ]
     },
     "metadata": {},
     "output_type": "display_data"
    },
    {
     "name": "stdout",
     "output_type": "stream",
     "text": [
      "----------------------------------------------------------\n",
      "demacia.csv\n",
      "\n"
     ]
    },
    {
     "data": {
      "text/plain": [
       "region_1                0\n",
       "attack                  0\n",
       "cost                    0\n",
       "health                  0\n",
       "effect                  0\n",
       "level_up_description    0\n",
       "flavor_text             0\n",
       "artist_name             0\n",
       "card_name               0\n",
       "card_code               0\n",
       "keyword_1               0\n",
       "keyword_2               0\n",
       "keyword_3               0\n",
       "spell_speed             0\n",
       "rarity                  0\n",
       "affiliation             0\n",
       "type                    0\n",
       "collectible             0\n",
       "set_number              0\n",
       "set_name                0\n",
       "level                   0\n",
       "id                      0\n",
       "dtype: int64"
      ]
     },
     "metadata": {},
     "output_type": "display_data"
    },
    {
     "name": "stdout",
     "output_type": "stream",
     "text": [
      " \n",
      "Number of duplicated cards\n"
     ]
    },
    {
     "data": {
      "text/plain": [
       "01DE042T3-Final Spark                    1\n",
       "02DE010-Genevieve Elmheart               1\n",
       "03DE011T1-Dragon Shyvana                 1\n",
       "03DE011-Shyvana                          1\n",
       "03DE002-Strafing Strike                  1\n",
       "                                        ..\n",
       "01DE048-Mageseeker Inciter               1\n",
       "01DE022T2-Lucian's Relentless Pursuit    1\n",
       "01DE021-Relentless Pursuit               1\n",
       "01DE017-Stand Alone                      1\n",
       "05BC179-Yordle Ranger                    1\n",
       "Name: id, Length: 118, dtype: int64"
      ]
     },
     "metadata": {},
     "output_type": "display_data"
    },
    {
     "name": "stdout",
     "output_type": "stream",
     "text": [
      "----------------------------------------------------------\n",
      "freljord.csv\n",
      "\n"
     ]
    },
    {
     "data": {
      "text/plain": [
       "region_1                0\n",
       "attack                  0\n",
       "cost                    0\n",
       "health                  0\n",
       "effect                  0\n",
       "level_up_description    0\n",
       "flavor_text             0\n",
       "artist_name             0\n",
       "card_name               0\n",
       "card_code               0\n",
       "keyword_1               0\n",
       "keyword_2               0\n",
       "keyword_3               0\n",
       "spell_speed             0\n",
       "rarity                  0\n",
       "affiliation             0\n",
       "type                    0\n",
       "collectible             0\n",
       "set_number              0\n",
       "set_name                0\n",
       "level                   0\n",
       "id                      0\n",
       "dtype: int64"
      ]
     },
     "metadata": {},
     "output_type": "display_data"
    },
    {
     "name": "stdout",
     "output_type": "stream",
     "text": [
      " \n",
      "Number of duplicated cards\n"
     ]
    },
    {
     "data": {
      "text/plain": [
       "01FR024T2-Glacial Storm    1\n",
       "01FR034-They Who Endure    1\n",
       "03FR006T2-Trundle          1\n",
       "03FR006-Trundle            1\n",
       "03FR005-Troll Ravager      1\n",
       "                          ..\n",
       "01FR038-Ashe               1\n",
       "01FR009-Braum              1\n",
       "01FR051-Tall Tales         1\n",
       "01FR001-Flash Freeze       1\n",
       "05BC140-Poro Sled          1\n",
       "Name: id, Length: 129, dtype: int64"
      ]
     },
     "metadata": {},
     "output_type": "display_data"
    },
    {
     "name": "stdout",
     "output_type": "stream",
     "text": [
      "----------------------------------------------------------\n",
      "ionia.csv\n",
      "\n"
     ]
    },
    {
     "data": {
      "text/plain": [
       "region_1                0\n",
       "attack                  0\n",
       "cost                    0\n",
       "health                  0\n",
       "effect                  0\n",
       "level_up_description    0\n",
       "flavor_text             0\n",
       "artist_name             0\n",
       "card_name               0\n",
       "card_code               0\n",
       "keyword_1               0\n",
       "keyword_2               0\n",
       "keyword_3               0\n",
       "spell_speed             0\n",
       "rarity                  0\n",
       "affiliation             0\n",
       "type                    0\n",
       "collectible             0\n",
       "set_number              0\n",
       "set_name                0\n",
       "level                   0\n",
       "id                      0\n",
       "dtype: int64"
      ]
     },
     "metadata": {},
     "output_type": "display_data"
    },
    {
     "name": "stdout",
     "output_type": "stream",
     "text": [
      " \n",
      "Number of duplicated cards\n"
     ]
    },
    {
     "data": {
      "text/plain": [
       "01IO056T1-Staggering Strikes            1\n",
       "01IO001-Ritual of Renewal               1\n",
       "03IO002-Lulu                            1\n",
       "03IO006-Monastery of Hirana             1\n",
       "03IO020-Nopeify!                        1\n",
       "                                       ..\n",
       "01IO028T2-Scaled Snapper                1\n",
       "01IO057-Shadow Assassin                 1\n",
       "01IO028-Scaled Snapper                  1\n",
       "01IO003-Death Mark                      1\n",
       "04IO002-Zinneia, Steel Crescendo\\r\\n    1\n",
       "Name: id, Length: 129, dtype: int64"
      ]
     },
     "metadata": {},
     "output_type": "display_data"
    },
    {
     "name": "stdout",
     "output_type": "stream",
     "text": [
      "----------------------------------------------------------\n",
      "noxus.csv\n",
      "\n"
     ]
    },
    {
     "data": {
      "text/plain": [
       "region_1                0\n",
       "attack                  0\n",
       "cost                    0\n",
       "health                  0\n",
       "effect                  0\n",
       "level_up_description    0\n",
       "flavor_text             0\n",
       "artist_name             0\n",
       "card_name               0\n",
       "card_code               0\n",
       "keyword_1               0\n",
       "keyword_2               0\n",
       "keyword_3               0\n",
       "spell_speed             0\n",
       "rarity                  0\n",
       "affiliation             0\n",
       "type                    0\n",
       "collectible             0\n",
       "set_number              0\n",
       "set_name                0\n",
       "level                   0\n",
       "id                      0\n",
       "dtype: int64"
      ]
     },
     "metadata": {},
     "output_type": "display_data"
    },
    {
     "name": "stdout",
     "output_type": "stream",
     "text": [
      " \n",
      "Number of duplicated cards\n"
     ]
    },
    {
     "data": {
      "text/plain": [
       "01NX020T1-Spinning Axe         1\n",
       "03NX009-Wrathful Rider         1\n",
       "03NX007-Riven                  1\n",
       "03NX007T1-Riven                1\n",
       "03NX014-Sharpened Resolve      1\n",
       "                              ..\n",
       "01NX022-Noxian Guillotine      1\n",
       "01NX026-Reckless Trifarian     1\n",
       "01NX019-Might                  1\n",
       "01NX039-Vision                 1\n",
       "05NX014-Weapons of the Lost    1\n",
       "Name: id, Length: 140, dtype: int64"
      ]
     },
     "metadata": {},
     "output_type": "display_data"
    },
    {
     "name": "stdout",
     "output_type": "stream",
     "text": [
      "----------------------------------------------------------\n",
      "pnz.csv\n",
      "\n"
     ]
    },
    {
     "data": {
      "text/plain": [
       "region_1                0\n",
       "attack                  0\n",
       "cost                    0\n",
       "health                  0\n",
       "effect                  0\n",
       "level_up_description    0\n",
       "flavor_text             0\n",
       "artist_name             0\n",
       "card_name               0\n",
       "card_code               0\n",
       "keyword_1               0\n",
       "keyword_2               0\n",
       "keyword_3               0\n",
       "spell_speed             0\n",
       "rarity                  0\n",
       "affiliation             0\n",
       "type                    0\n",
       "collectible             0\n",
       "set_number              0\n",
       "set_name                0\n",
       "level                   0\n",
       "id                      0\n",
       "dtype: int64"
      ]
     },
     "metadata": {},
     "output_type": "display_data"
    },
    {
     "name": "stdout",
     "output_type": "stream",
     "text": [
      " \n",
      "Number of duplicated cards\n"
     ]
    },
    {
     "data": {
      "text/plain": [
       "01PZ056T1-Mk0: Windup Shredder        1\n",
       "04PZ004-Dropboarder                   1\n",
       "03PZ001-The University of Piltover    1\n",
       "03PZ010-Mechanized Mimic              1\n",
       "03PZ017-Tri-beam Improbulator         1\n",
       "                                     ..\n",
       "01PZ058-Chump Whump                   1\n",
       "01PZ056-Heimerdinger                  1\n",
       "01PZ056T10-Heimerdinger               1\n",
       "01PZ056T2-Mk5: Rocket Blaster         1\n",
       "05PZ031-Albus Ferros                  1\n",
       "Name: id, Length: 174, dtype: int64"
      ]
     },
     "metadata": {},
     "output_type": "display_data"
    },
    {
     "name": "stdout",
     "output_type": "stream",
     "text": [
      "----------------------------------------------------------\n",
      "shadowisles.csv\n",
      "\n"
     ]
    },
    {
     "data": {
      "text/plain": [
       "region_1                0\n",
       "attack                  0\n",
       "cost                    0\n",
       "health                  0\n",
       "effect                  0\n",
       "level_up_description    0\n",
       "flavor_text             0\n",
       "artist_name             0\n",
       "card_name               0\n",
       "card_code               0\n",
       "keyword_1               0\n",
       "keyword_2               0\n",
       "keyword_3               0\n",
       "spell_speed             0\n",
       "rarity                  0\n",
       "affiliation             0\n",
       "type                    0\n",
       "collectible             0\n",
       "set_number              0\n",
       "set_name                0\n",
       "level                   0\n",
       "id                      0\n",
       "dtype: int64"
      ]
     },
     "metadata": {},
     "output_type": "display_data"
    },
    {
     "name": "stdout",
     "output_type": "stream",
     "text": [
      " \n",
      "Number of duplicated cards\n"
     ]
    },
    {
     "data": {
      "text/plain": [
       "01SI035T1-Night Harvest         1\n",
       "03SI013-Risen Mists             1\n",
       "03SI005T1-Nocturne              1\n",
       "03SI009-Vaults of Helia         1\n",
       "03SI008-Crumble                 1\n",
       "                               ..\n",
       "01SI052T1-Thresh                1\n",
       "01SI006-Possession              1\n",
       "01SI058-Ethereal Remitter       1\n",
       "01SI054-Grasp of the Undying    1\n",
       "05SI011-Burgeoning Sentinel     1\n",
       "Name: id, Length: 150, dtype: int64"
      ]
     },
     "metadata": {},
     "output_type": "display_data"
    },
    {
     "name": "stdout",
     "output_type": "stream",
     "text": [
      "----------------------------------------------------------\n",
      "shurima.csv\n",
      "\n"
     ]
    },
    {
     "data": {
      "text/plain": [
       "region_1                0\n",
       "attack                  0\n",
       "cost                    0\n",
       "health                  0\n",
       "effect                  0\n",
       "level_up_description    0\n",
       "flavor_text             0\n",
       "artist_name             0\n",
       "card_name               0\n",
       "card_code               0\n",
       "keyword_1               0\n",
       "keyword_2               0\n",
       "keyword_3               0\n",
       "spell_speed             0\n",
       "rarity                  0\n",
       "affiliation             0\n",
       "type                    0\n",
       "collectible             0\n",
       "set_number              0\n",
       "set_name                0\n",
       "level                   0\n",
       "id                      0\n",
       "dtype: int64"
      ]
     },
     "metadata": {},
     "output_type": "display_data"
    },
    {
     "name": "stdout",
     "output_type": "stream",
     "text": [
      " \n",
      "Number of duplicated cards\n"
     ]
    },
    {
     "data": {
      "text/plain": [
       "04SH098-Lucky Find                   2\n",
       "04SH089T1-Teen Spirit                1\n",
       "04SH018T2-Rite of Dominance          1\n",
       "04SH018T1-Rite of Dominance          1\n",
       "04SH056-Profiteer                    1\n",
       "                                    ..\n",
       "04SH039T1-Zilean                     1\n",
       "04SH060T1-Time Bomb                  1\n",
       "04SH019T2-Rek'Sai's Call the Pack    1\n",
       "04SH080-Call the Pack                1\n",
       "05SH018-Servitude of Desolation      1\n",
       "Name: id, Length: 180, dtype: int64"
      ]
     },
     "metadata": {},
     "output_type": "display_data"
    },
    {
     "name": "stdout",
     "output_type": "stream",
     "text": [
      "----------------------------------------------------------\n",
      "targon.csv\n",
      "\n"
     ]
    },
    {
     "data": {
      "text/plain": [
       "region_1                0\n",
       "attack                  0\n",
       "cost                    0\n",
       "health                  0\n",
       "effect                  0\n",
       "level_up_description    0\n",
       "flavor_text             0\n",
       "artist_name             0\n",
       "card_name               0\n",
       "card_code               0\n",
       "keyword_1               0\n",
       "keyword_2               0\n",
       "keyword_3               0\n",
       "spell_speed             0\n",
       "rarity                  0\n",
       "affiliation             0\n",
       "type                    0\n",
       "collectible             0\n",
       "set_number              0\n",
       "set_name                0\n",
       "level                   0\n",
       "id                      0\n",
       "dtype: int64"
      ]
     },
     "metadata": {},
     "output_type": "display_data"
    },
    {
     "name": "stdout",
     "output_type": "stream",
     "text": [
      " \n",
      "Number of duplicated cards\n"
     ]
    },
    {
     "data": {
      "text/plain": [
       "03MT034-The Serpent               1\n",
       "03MT110-Out Of The Way            1\n",
       "03MT020-Resplendent Stellacorn    1\n",
       "03MT013-Moonlight Affliction      1\n",
       "03MT072-Fused Firebrand           1\n",
       "                                 ..\n",
       "03MT217T14-Infernum               1\n",
       "03MT217T9-Severum                 1\n",
       "03MT217T8-Calibrum                1\n",
       "03MT217T13-Aphelios               1\n",
       "05MT009-Battle Bonds              1\n",
       "Name: id, Length: 155, dtype: int64"
      ]
     },
     "metadata": {},
     "output_type": "display_data"
    }
   ],
   "source": [
    "## Fixing null values and checking the nuber of duplicates in the datasets \n",
    "for key in list(regions_data.keys()):\n",
    "    print('----------------------------------------------------------')\n",
    "    #print(regions_data[key].shape)\n",
    "    print(key)\n",
    "    print()\n",
    "    regions_data[key].region_1 = key.split('.')[0]\n",
    "    regions_data[key].drop('region_2', axis = 1, inplace=True )\n",
    "    regions_data[key].fillna('not-specified', inplace = True)\n",
    "    regions_data[key].collectible = regions_data[key].collectible.astype('str')\n",
    "    regions_data[key]['id'] = regions_data[key].card_code + '-'+ regions_data[key].card_name\n",
    "    \n",
    "    display(regions_data[key].isna().sum())\n",
    "    print(' ')\n",
    "    print('Number of duplicated cards')\n",
    "    ## The card_code column is the unique identifier of the card\n",
    "    duplicates_card_codes = regions_data[key].id.value_counts()\n",
    "    #duplicates = duplicates[duplicates> 1]\n",
    "    display(duplicates_card_codes)\n",
    "    #display(len(duplicates))\n",
    "    "
   ]
  },
  {
   "cell_type": "code",
   "execution_count": 134,
   "id": "62a4d188-536d-4f59-b9df-16f1433e2fc5",
   "metadata": {
    "tags": []
   },
   "outputs": [
    {
     "data": {
      "text/html": [
       "<div>\n",
       "<style scoped>\n",
       "    .dataframe tbody tr th:only-of-type {\n",
       "        vertical-align: middle;\n",
       "    }\n",
       "\n",
       "    .dataframe tbody tr th {\n",
       "        vertical-align: top;\n",
       "    }\n",
       "\n",
       "    .dataframe thead th {\n",
       "        text-align: right;\n",
       "    }\n",
       "</style>\n",
       "<table border=\"1\" class=\"dataframe\">\n",
       "  <thead>\n",
       "    <tr style=\"text-align: right;\">\n",
       "      <th></th>\n",
       "      <th>region_1</th>\n",
       "      <th>attack</th>\n",
       "      <th>cost</th>\n",
       "      <th>health</th>\n",
       "      <th>effect</th>\n",
       "      <th>level_up_description</th>\n",
       "      <th>flavor_text</th>\n",
       "      <th>artist_name</th>\n",
       "      <th>card_name</th>\n",
       "      <th>card_code</th>\n",
       "      <th>keyword_1</th>\n",
       "      <th>keyword_2</th>\n",
       "      <th>keyword_3</th>\n",
       "      <th>spell_speed</th>\n",
       "      <th>rarity</th>\n",
       "      <th>affiliation</th>\n",
       "      <th>type</th>\n",
       "      <th>collectible</th>\n",
       "      <th>set_number</th>\n",
       "      <th>set_name</th>\n",
       "      <th>level</th>\n",
       "      <th>id</th>\n",
       "    </tr>\n",
       "  </thead>\n",
       "  <tbody>\n",
       "    <tr>\n",
       "      <th>12</th>\n",
       "      <td>shurima</td>\n",
       "      <td>0</td>\n",
       "      <td>0</td>\n",
       "      <td>0</td>\n",
       "      <td>Pick a buff from among 3 to grant an ally.</td>\n",
       "      <td>not-specified</td>\n",
       "      <td>\"Nothin' better than a payday.\" - Sivir</td>\n",
       "      <td>Kudos Productions</td>\n",
       "      <td>Lucky Find</td>\n",
       "      <td>04SH098</td>\n",
       "      <td>Fleeting</td>\n",
       "      <td>Focus</td>\n",
       "      <td>not-specified</td>\n",
       "      <td>Burst</td>\n",
       "      <td>None</td>\n",
       "      <td>not-specified</td>\n",
       "      <td>Spell</td>\n",
       "      <td>False</td>\n",
       "      <td>4</td>\n",
       "      <td>Empires Of The Ascended</td>\n",
       "      <td>not-specified</td>\n",
       "      <td>04SH098-Lucky Find</td>\n",
       "    </tr>\n",
       "    <tr>\n",
       "      <th>25</th>\n",
       "      <td>shurima</td>\n",
       "      <td>0</td>\n",
       "      <td>0</td>\n",
       "      <td>0</td>\n",
       "      <td>Pick a buff from among 3 to grant an ally.</td>\n",
       "      <td>not-specified</td>\n",
       "      <td>Nothin' better than a payday.\" - Sivir</td>\n",
       "      <td>Kudos Productions</td>\n",
       "      <td>Lucky Find</td>\n",
       "      <td>04SH098</td>\n",
       "      <td>Focus</td>\n",
       "      <td>Fleeting</td>\n",
       "      <td>not-specified</td>\n",
       "      <td>not-specified</td>\n",
       "      <td>None</td>\n",
       "      <td>not-specified</td>\n",
       "      <td>Spell</td>\n",
       "      <td>False</td>\n",
       "      <td>4</td>\n",
       "      <td>Empires Of The Ascended</td>\n",
       "      <td>not-specified</td>\n",
       "      <td>04SH098-Lucky Find</td>\n",
       "    </tr>\n",
       "  </tbody>\n",
       "</table>\n",
       "</div>"
      ],
      "text/plain": [
       "   region_1  attack  cost  health                                      effect  \\\n",
       "12  shurima       0     0       0  Pick a buff from among 3 to grant an ally.   \n",
       "25  shurima       0     0       0  Pick a buff from among 3 to grant an ally.   \n",
       "\n",
       "   level_up_description                              flavor_text  \\\n",
       "12        not-specified  \"Nothin' better than a payday.\" - Sivir   \n",
       "25        not-specified   Nothin' better than a payday.\" - Sivir   \n",
       "\n",
       "          artist_name   card_name card_code keyword_1 keyword_2  \\\n",
       "12  Kudos Productions  Lucky Find   04SH098  Fleeting     Focus   \n",
       "25  Kudos Productions  Lucky Find   04SH098    Focus   Fleeting   \n",
       "\n",
       "        keyword_3    spell_speed rarity    affiliation   type collectible  \\\n",
       "12  not-specified          Burst   None  not-specified  Spell       False   \n",
       "25  not-specified  not-specified   None  not-specified  Spell       False   \n",
       "\n",
       "    set_number                 set_name          level                  id  \n",
       "12           4  Empires Of The Ascended  not-specified  04SH098-Lucky Find  \n",
       "25           4  Empires Of The Ascended  not-specified  04SH098-Lucky Find  "
      ]
     },
     "metadata": {},
     "output_type": "display_data"
    },
    {
     "name": "stdout",
     "output_type": "stream",
     "text": [
      "\n"
     ]
    },
    {
     "data": {
      "text/html": [
       "<div>\n",
       "<style scoped>\n",
       "    .dataframe tbody tr th:only-of-type {\n",
       "        vertical-align: middle;\n",
       "    }\n",
       "\n",
       "    .dataframe tbody tr th {\n",
       "        vertical-align: top;\n",
       "    }\n",
       "\n",
       "    .dataframe thead th {\n",
       "        text-align: right;\n",
       "    }\n",
       "</style>\n",
       "<table border=\"1\" class=\"dataframe\">\n",
       "  <thead>\n",
       "    <tr style=\"text-align: right;\">\n",
       "      <th></th>\n",
       "      <th>region_1</th>\n",
       "      <th>attack</th>\n",
       "      <th>cost</th>\n",
       "      <th>health</th>\n",
       "      <th>effect</th>\n",
       "      <th>level_up_description</th>\n",
       "      <th>flavor_text</th>\n",
       "      <th>artist_name</th>\n",
       "      <th>card_name</th>\n",
       "      <th>card_code</th>\n",
       "      <th>keyword_1</th>\n",
       "      <th>keyword_2</th>\n",
       "      <th>keyword_3</th>\n",
       "      <th>spell_speed</th>\n",
       "      <th>rarity</th>\n",
       "      <th>affiliation</th>\n",
       "      <th>type</th>\n",
       "      <th>collectible</th>\n",
       "      <th>set_number</th>\n",
       "      <th>set_name</th>\n",
       "      <th>level</th>\n",
       "      <th>id</th>\n",
       "    </tr>\n",
       "  </thead>\n",
       "  <tbody>\n",
       "    <tr>\n",
       "      <th>12</th>\n",
       "      <td>shurima</td>\n",
       "      <td>0</td>\n",
       "      <td>0</td>\n",
       "      <td>0</td>\n",
       "      <td>Pick a buff from among 3 to grant an ally.</td>\n",
       "      <td>not-specified</td>\n",
       "      <td>\"Nothin' better than a payday.\" - Sivir</td>\n",
       "      <td>Kudos Productions</td>\n",
       "      <td>Lucky Find</td>\n",
       "      <td>04SH098</td>\n",
       "      <td>Fleeting</td>\n",
       "      <td>Focus</td>\n",
       "      <td>not-specified</td>\n",
       "      <td>Burst</td>\n",
       "      <td>None</td>\n",
       "      <td>not-specified</td>\n",
       "      <td>Spell</td>\n",
       "      <td>False</td>\n",
       "      <td>4</td>\n",
       "      <td>Empires Of The Ascended</td>\n",
       "      <td>not-specified</td>\n",
       "      <td>04SH098-Lucky Find</td>\n",
       "    </tr>\n",
       "  </tbody>\n",
       "</table>\n",
       "</div>"
      ],
      "text/plain": [
       "   region_1  attack  cost  health                                      effect  \\\n",
       "12  shurima       0     0       0  Pick a buff from among 3 to grant an ally.   \n",
       "\n",
       "   level_up_description                              flavor_text  \\\n",
       "12        not-specified  \"Nothin' better than a payday.\" - Sivir   \n",
       "\n",
       "          artist_name   card_name card_code keyword_1 keyword_2  \\\n",
       "12  Kudos Productions  Lucky Find   04SH098  Fleeting     Focus   \n",
       "\n",
       "        keyword_3 spell_speed rarity    affiliation   type collectible  \\\n",
       "12  not-specified       Burst   None  not-specified  Spell       False   \n",
       "\n",
       "    set_number                 set_name          level                  id  \n",
       "12           4  Empires Of The Ascended  not-specified  04SH098-Lucky Find  "
      ]
     },
     "execution_count": 134,
     "metadata": {},
     "output_type": "execute_result"
    }
   ],
   "source": [
    "display(regions_data['shurima.csv'][regions_data['shurima.csv'].id == '04SH098-Lucky Find'])\n",
    "regions_data['shurima.csv'].drop(25, axis = 0,inplace = True)\n",
    "print()\n",
    "regions_data['shurima.csv'][regions_data['shurima.csv'].id == '04SH098-Lucky Find']"
   ]
  },
  {
   "cell_type": "raw",
   "id": "c1fb7b3d-13d5-466b-a3a7-9df88cf58a76",
   "metadata": {},
   "source": [
    "/****** Script for SelectTopNRows command from SSMS  ******/\n",
    "IF (NOT EXISTS (SELECT * FROM INFORMATION_SCHEMA.TABLES WHERE TABLE_NAME = 'bandlecity'))\n",
    "BEGIN\n",
    "  CREATE TABLE bandlecity\n",
    "  (\n",
    "    region_1 VARCHAR(70) NOT NULL,\n",
    "    attack INT NOT NULL,\n",
    "    cost INT NOT NULL,\n",
    "    health INT NOT NULL,\n",
    "    effect VARCHAR(500) NOT NULL,\n",
    "    level_up_description VARCHAR(500) NOT NULL,\n",
    "    flavor_text VARCHAR(800) NOT NULL,\n",
    "    artist_name VARCHAR(80) NOT NULL,\n",
    "    card_name VARCHAR(200) NOT NULL,\n",
    "    card_code VARCHAR(40) NOT NULL,\n",
    "    keyword_1 VARCHAR(80) NOT NULL,\n",
    "    keyword_2 VARCHAR(80) NOT NULL,\n",
    "    keyword_3 VARCHAR(80) NOT NULL,\n",
    "    spell_speed VARCHAR(150) NOT NULL,\n",
    "    rarity VARCHAR(50) NOT NULL,\n",
    "    affiliation VARCHAR(150) NOT NULL,\n",
    "    type VARCHAR(70) NOT NULL,\n",
    "    collectible VARCHAR(50) NOT NULL,\n",
    "    set_number INT NOT NULL,\n",
    "    set_name VARCHAR(70) NOT NULL,\n",
    "    level VARCHAR(70) NOT NULL,\n",
    "    id VARCHAR(100) NOT NULL,\n",
    "    PRIMARY KEY(id)\n",
    "  )\n",
    "END;\n",
    "\n",
    "\n",
    "IF (NOT EXISTS (SELECT * FROM INFORMATION_SCHEMA.TABLES WHERE TABLE_NAME = 'bilgewater'))\n",
    "BEGIN\n",
    "  CREATE TABLE bilgewater\n",
    "  (\n",
    "    region_1 VARCHAR(70) NOT NULL,\n",
    "    attack INT NOT NULL,\n",
    "    cost INT NOT NULL,\n",
    "    health INT NOT NULL,\n",
    "    effect VARCHAR(500) NOT NULL,\n",
    "    level_up_description VARCHAR(500) NOT NULL,\n",
    "    flavor_text VARCHAR(800) NOT NULL,\n",
    "    artist_name VARCHAR(80) NOT NULL,\n",
    "    card_name VARCHAR(200) NOT NULL,\n",
    "    card_code VARCHAR(40) NOT NULL,\n",
    "    keyword_1 VARCHAR(80) NOT NULL,\n",
    "    keyword_2 VARCHAR(80) NOT NULL,\n",
    "    keyword_3 VARCHAR(80) NOT NULL,\n",
    "    spell_speed VARCHAR(150) NOT NULL,\n",
    "    rarity VARCHAR(50) NOT NULL,\n",
    "    affiliation VARCHAR(150) NOT NULL,\n",
    "    type VARCHAR(70) NOT NULL,\n",
    "    collectible VARCHAR(50) NOT NULL,\n",
    "    set_number INT NOT NULL,\n",
    "    set_name VARCHAR(70) NOT NULL,\n",
    "    level VARCHAR(70) NOT NULL,\n",
    "    id VARCHAR(100) NOT NULL,\n",
    "    PRIMARY KEY(id)\n",
    "  )\n",
    "END;\n",
    "\n",
    "IF (NOT EXISTS (SELECT * FROM INFORMATION_SCHEMA.TABLES WHERE TABLE_NAME = 'demacia'))\n",
    "BEGIN\n",
    "  CREATE TABLE demacia\n",
    "  (\n",
    "    region_1 VARCHAR(70) NOT NULL,\n",
    "    attack INT NOT NULL,\n",
    "    cost INT NOT NULL,\n",
    "    health INT NOT NULL,\n",
    "    effect VARCHAR(500) NOT NULL,\n",
    "    level_up_description VARCHAR(500) NOT NULL,\n",
    "    flavor_text VARCHAR(800) NOT NULL,\n",
    "    artist_name VARCHAR(80) NOT NULL,\n",
    "    card_name VARCHAR(200) NOT NULL,\n",
    "    card_code VARCHAR(40) NOT NULL,\n",
    "    keyword_1 VARCHAR(80) NOT NULL,\n",
    "    keyword_2 VARCHAR(80) NOT NULL,\n",
    "    keyword_3 VARCHAR(80) NOT NULL,\n",
    "    spell_speed VARCHAR(150) NOT NULL,\n",
    "    rarity VARCHAR(50) NOT NULL,\n",
    "    affiliation VARCHAR(150) NOT NULL,\n",
    "    type VARCHAR(70) NOT NULL,\n",
    "    collectible VARCHAR(50) NOT NULL,\n",
    "    set_number INT NOT NULL,\n",
    "    set_name VARCHAR(70) NOT NULL,\n",
    "    level VARCHAR(70) NOT NULL,\n",
    "    id VARCHAR(100) NOT NULL,\n",
    "    PRIMARY KEY(id)\n",
    "  )\n",
    "END;\n",
    "IF (NOT EXISTS (SELECT * FROM INFORMATION_SCHEMA.TABLES WHERE TABLE_NAME = 'freljord'))\n",
    "BEGIN\n",
    "  CREATE TABLE freljord\n",
    "  (\n",
    "    region_1 VARCHAR(70) NOT NULL,\n",
    "    attack INT NOT NULL,\n",
    "    cost INT NOT NULL,\n",
    "    health INT NOT NULL,\n",
    "    effect VARCHAR(500) NOT NULL,\n",
    "    level_up_description VARCHAR(500) NOT NULL,\n",
    "    flavor_text VARCHAR(800) NOT NULL,\n",
    "    artist_name VARCHAR(80) NOT NULL,\n",
    "    card_name VARCHAR(200) NOT NULL,\n",
    "    card_code VARCHAR(40) NOT NULL,\n",
    "    keyword_1 VARCHAR(80) NOT NULL,\n",
    "    keyword_2 VARCHAR(80) NOT NULL,\n",
    "    keyword_3 VARCHAR(80) NOT NULL,\n",
    "    spell_speed VARCHAR(150) NOT NULL,\n",
    "    rarity VARCHAR(50) NOT NULL,\n",
    "    affiliation VARCHAR(150) NOT NULL,\n",
    "    type VARCHAR(70) NOT NULL,\n",
    "    collectible VARCHAR(50) NOT NULL,\n",
    "    set_number INT NOT NULL,\n",
    "    set_name VARCHAR(70) NOT NULL,\n",
    "    level VARCHAR(70) NOT NULL,\n",
    "    id VARCHAR(100) NOT NULL,\n",
    "    PRIMARY KEY(id)\n",
    "  )\n",
    "END;\n",
    "IF (NOT EXISTS (SELECT * FROM INFORMATION_SCHEMA.TABLES WHERE TABLE_NAME = 'ionia'))\n",
    "BEGIN\n",
    "  CREATE TABLE ionia\n",
    "  (\n",
    "    region_1 VARCHAR(70) NOT NULL,\n",
    "    attack INT NOT NULL,\n",
    "    cost INT NOT NULL,\n",
    "    health INT NOT NULL,\n",
    "    effect VARCHAR(500) NOT NULL,\n",
    "    level_up_description VARCHAR(500) NOT NULL,\n",
    "    flavor_text VARCHAR(800) NOT NULL,\n",
    "    artist_name VARCHAR(80) NOT NULL,\n",
    "    card_name VARCHAR(200) NOT NULL,\n",
    "    card_code VARCHAR(40) NOT NULL,\n",
    "    keyword_1 VARCHAR(80) NOT NULL,\n",
    "    keyword_2 VARCHAR(80) NOT NULL,\n",
    "    keyword_3 VARCHAR(80) NOT NULL,\n",
    "    spell_speed VARCHAR(150) NOT NULL,\n",
    "    rarity VARCHAR(50) NOT NULL,\n",
    "    affiliation VARCHAR(150) NOT NULL,\n",
    "    type VARCHAR(70) NOT NULL,\n",
    "    collectible VARCHAR(50) NOT NULL,\n",
    "    set_number INT NOT NULL,\n",
    "    set_name VARCHAR(70) NOT NULL,\n",
    "    level VARCHAR(70) NOT NULL,\n",
    "    id VARCHAR(100) NOT NULL,\n",
    "    PRIMARY KEY(id)\n",
    "  )\n",
    "END;\n",
    "IF (NOT EXISTS (SELECT * FROM INFORMATION_SCHEMA.TABLES WHERE TABLE_NAME = 'noxus'))\n",
    "BEGIN\n",
    "  CREATE TABLE noxus\n",
    "  (\n",
    "    region_1 VARCHAR(70) NOT NULL,\n",
    "    attack INT NOT NULL,\n",
    "    cost INT NOT NULL,\n",
    "    health INT NOT NULL,\n",
    "    effect VARCHAR(500) NOT NULL,\n",
    "    level_up_description VARCHAR(500) NOT NULL,\n",
    "    flavor_text VARCHAR(800) NOT NULL,\n",
    "    artist_name VARCHAR(80) NOT NULL,\n",
    "    card_name VARCHAR(200) NOT NULL,\n",
    "    card_code VARCHAR(40) NOT NULL,\n",
    "    keyword_1 VARCHAR(80) NOT NULL,\n",
    "    keyword_2 VARCHAR(80) NOT NULL,\n",
    "    keyword_3 VARCHAR(80) NOT NULL,\n",
    "    spell_speed VARCHAR(150) NOT NULL,\n",
    "    rarity VARCHAR(50) NOT NULL,\n",
    "    affiliation VARCHAR(150) NOT NULL,\n",
    "    type VARCHAR(70) NOT NULL,\n",
    "    collectible VARCHAR(50) NOT NULL,\n",
    "    set_number INT NOT NULL,\n",
    "    set_name VARCHAR(70) NOT NULL,\n",
    "    level VARCHAR(70) NOT NULL,\n",
    "    id VARCHAR(100) NOT NULL,\n",
    "    PRIMARY KEY(id)\n",
    "  )\n",
    "END;\n",
    "IF (NOT EXISTS (SELECT * FROM INFORMATION_SCHEMA.TABLES WHERE TABLE_NAME = 'pnz'))\n",
    "BEGIN\n",
    "  CREATE TABLE pnz\n",
    "  (\n",
    "    region_1 VARCHAR(70) NOT NULL,\n",
    "    attack INT NOT NULL,\n",
    "    cost INT NOT NULL,\n",
    "    health INT NOT NULL,\n",
    "    effect VARCHAR(500) NOT NULL,\n",
    "    level_up_description VARCHAR(500) NOT NULL,\n",
    "    flavor_text VARCHAR(800) NOT NULL,\n",
    "    artist_name VARCHAR(80) NOT NULL,\n",
    "    card_name VARCHAR(200) NOT NULL,\n",
    "    card_code VARCHAR(40) NOT NULL,\n",
    "    keyword_1 VARCHAR(80) NOT NULL,\n",
    "    keyword_2 VARCHAR(80) NOT NULL,\n",
    "    keyword_3 VARCHAR(80) NOT NULL,\n",
    "    spell_speed VARCHAR(150) NOT NULL,\n",
    "    rarity VARCHAR(50) NOT NULL,\n",
    "    affiliation VARCHAR(150) NOT NULL,\n",
    "    type VARCHAR(70) NOT NULL,\n",
    "    collectible VARCHAR(50) NOT NULL,\n",
    "    set_number INT NOT NULL,\n",
    "    set_name VARCHAR(70) NOT NULL,\n",
    "    level VARCHAR(70) NOT NULL,\n",
    "    id VARCHAR(100) NOT NULL,\n",
    "    PRIMARY KEY(id)\n",
    "  )\n",
    "END;\n",
    "IF (NOT EXISTS (SELECT * FROM INFORMATION_SCHEMA.TABLES WHERE TABLE_NAME = 'shadowisles'))\n",
    "BEGIN\n",
    "  CREATE TABLE shadowisles\n",
    "  (\n",
    "    region_1 VARCHAR(70) NOT NULL,\n",
    "    attack INT NOT NULL,\n",
    "    cost INT NOT NULL,\n",
    "    health INT NOT NULL,\n",
    "    effect VARCHAR(500) NOT NULL,\n",
    "    level_up_description VARCHAR(500) NOT NULL,\n",
    "    flavor_text VARCHAR(800) NOT NULL,\n",
    "    artist_name VARCHAR(80) NOT NULL,\n",
    "    card_name VARCHAR(200) NOT NULL,\n",
    "    card_code VARCHAR(40) NOT NULL,\n",
    "    keyword_1 VARCHAR(80) NOT NULL,\n",
    "    keyword_2 VARCHAR(80) NOT NULL,\n",
    "    keyword_3 VARCHAR(80) NOT NULL,\n",
    "    spell_speed VARCHAR(150) NOT NULL,\n",
    "    rarity VARCHAR(50) NOT NULL,\n",
    "    affiliation VARCHAR(150) NOT NULL,\n",
    "    type VARCHAR(70) NOT NULL,\n",
    "    collectible VARCHAR(50) NOT NULL,\n",
    "    set_number INT NOT NULL,\n",
    "    set_name VARCHAR(70) NOT NULL,\n",
    "    level VARCHAR(70) NOT NULL,\n",
    "    id VARCHAR(100) NOT NULL,\n",
    "    PRIMARY KEY(id)\n",
    "  )\n",
    "END;\n",
    "IF (NOT EXISTS (SELECT * FROM INFORMATION_SCHEMA.TABLES WHERE TABLE_NAME = 'shurima'))\n",
    "BEGIN\n",
    "  CREATE TABLE shurima\n",
    "  (\n",
    "    region_1 VARCHAR(70) NOT NULL,\n",
    "    attack INT NOT NULL,\n",
    "    cost INT NOT NULL,\n",
    "    health INT NOT NULL,\n",
    "    effect VARCHAR(500) NOT NULL,\n",
    "    level_up_description VARCHAR(500) NOT NULL,\n",
    "    flavor_text VARCHAR(800) NOT NULL,\n",
    "    artist_name VARCHAR(80) NOT NULL,\n",
    "    card_name VARCHAR(200) NOT NULL,\n",
    "    card_code VARCHAR(40) NOT NULL,\n",
    "    keyword_1 VARCHAR(80) NOT NULL,\n",
    "    keyword_2 VARCHAR(80) NOT NULL,\n",
    "    keyword_3 VARCHAR(80) NOT NULL,\n",
    "    spell_speed VARCHAR(150) NOT NULL,\n",
    "    rarity VARCHAR(50) NOT NULL,\n",
    "    affiliation VARCHAR(150) NOT NULL,\n",
    "    type VARCHAR(70) NOT NULL,\n",
    "    collectible VARCHAR(50) NOT NULL,\n",
    "    set_number INT NOT NULL,\n",
    "    set_name VARCHAR(70) NOT NULL,\n",
    "    level VARCHAR(70) NOT NULL,\n",
    "    id VARCHAR(100) NOT NULL,\n",
    "    PRIMARY KEY(id)\n",
    "  )\n",
    "END;\n",
    "IF (NOT EXISTS (SELECT * FROM INFORMATION_SCHEMA.TABLES WHERE TABLE_NAME = 'targon'))\n",
    "BEGIN\n",
    "  CREATE TABLE targon\n",
    "  (\n",
    "    region_1 VARCHAR(70) NOT NULL,\n",
    "    attack INT NOT NULL,\n",
    "    cost INT NOT NULL,\n",
    "    health INT NOT NULL,\n",
    "    effect VARCHAR(500) NOT NULL,\n",
    "    level_up_description VARCHAR(500) NOT NULL,\n",
    "    flavor_text VARCHAR(800) NOT NULL,\n",
    "    artist_name VARCHAR(80) NOT NULL,\n",
    "    card_name VARCHAR(200) NOT NULL,\n",
    "    card_code VARCHAR(40) NOT NULL,\n",
    "    keyword_1 VARCHAR(80) NOT NULL,\n",
    "    keyword_2 VARCHAR(80) NOT NULL,\n",
    "    keyword_3 VARCHAR(80) NOT NULL,\n",
    "    spell_speed VARCHAR(150) NOT NULL,\n",
    "    rarity VARCHAR(50) NOT NULL,\n",
    "    affiliation VARCHAR(150) NOT NULL,\n",
    "    type VARCHAR(70) NOT NULL,\n",
    "    collectible VARCHAR(50) NOT NULL,\n",
    "    set_number INT NOT NULL,\n",
    "    set_name VARCHAR(70) NOT NULL,\n",
    "    level VARCHAR(70) NOT NULL,\n",
    "    id VARCHAR(100) NOT NULL,\n",
    "    PRIMARY KEY(id)\n",
    "  )\n",
    "END;\n"
   ]
  },
  {
   "cell_type": "code",
   "execution_count": 30,
   "id": "a528d403-cf6c-4686-b0a9-27b8d3a292b3",
   "metadata": {},
   "outputs": [
    {
     "name": "stdout",
     "output_type": "stream",
     "text": [
      "+--------+------+----+------+------+--------------------+-----------+-----------+---------+---------+---------+---------+---------+-----------+------+-----------+----+-----------+----------+--------+-----+\n",
      "|region_1|attack|cost|health|effect|level_up_description|flavor_text|artist_name|card_name|card_code|keyword_1|keyword_2|keyword_3|spell_speed|rarity|affiliation|type|collectible|set_number|set_name|level|\n",
      "+--------+------+----+------+------+--------------------+-----------+-----------+---------+---------+---------+---------+---------+-----------+------+-----------+----+-----------+----------+--------+-----+\n",
      "+--------+------+----+------+------+--------------------+-----------+-----------+---------+---------+---------+---------+---------+-----------+------+-----------+----+-----------+----------+--------+-----+\n",
      "\n"
     ]
    }
   ],
   "source": [
    "from pyspark import SparkConf, SparkContext\n",
    "from pyspark.sql import SparkSession\n",
    " \n",
    "#Create spark configuration object\n",
    "conf = SparkConf()\n",
    "conf.setMaster(\"local\").setAppName(\"My app\")\n",
    " \n",
    "#Create spark context and sparksession\n",
    "sc = SparkContext.getOrCreate(conf=conf)\n",
    "spark = SparkSession(sc)\n",
    "#set variable to be used to connect the database\n",
    "database = \"LEGENDS_RUNATERRA\"\n",
    "table = \"Shurima\"\n",
    "user = \"sa\"\n",
    "password  = r'Gali120\"'\n",
    " \n",
    "#read table data into a spark dataframe\n",
    "jdbcDF = spark.read.format(\"jdbc\") \\\n",
    "    .option(\"url\", f\"jdbc:sqlserver://localhost:1433;databaseName={database};\") \\\n",
    "    .option(\"dbtable\", table) \\\n",
    "    .option(\"user\", user) \\\n",
    "    .option(\"password\", password) \\\n",
    "    .option(\"driver\", \"com.microsoft.sqlserver.jdbc.SQLServerDriver\") \\\n",
    "    .load()\n",
    "jdbcDF.show()"
   ]
  },
  {
   "cell_type": "code",
   "execution_count": 137,
   "id": "90fff087-9c32-4fd4-a877-f3e9ecc9eca2",
   "metadata": {},
   "outputs": [
    {
     "data": {
      "text/plain": [
       "dict_keys(['bandlecity.csv', 'bilgewater.csv', 'demacia.csv', 'freljord.csv', 'ionia.csv', 'noxus.csv', 'pnz.csv', 'shadowisles.csv', 'shurima.csv', 'targon.csv'])"
      ]
     },
     "execution_count": 137,
     "metadata": {},
     "output_type": "execute_result"
    }
   ],
   "source": [
    "regions_data.keys()"
   ]
  },
  {
   "cell_type": "code",
   "execution_count": 139,
   "id": "6348721d-ff33-4f8a-a334-ac9d02f07c4c",
   "metadata": {
    "tags": []
   },
   "outputs": [],
   "source": [
    "from pyspark.sql.types import IntegerType,StructType,StructField,StringType\n",
    "\n",
    "df_schema = StructType([StructField(\"region_1\", StringType(), True)\\\n",
    "                        ,StructField(\"attack\", IntegerType(), True)\\\n",
    "                        ,StructField(\"cost\", IntegerType(), True)\\\n",
    "                        ,StructField(\"health\", IntegerType(), True)\\\n",
    "                        ,StructField(\"effect\", StringType(), True)\\\n",
    "                        ,StructField(\"level_up_description\", StringType(), True)\\\n",
    "                        ,StructField(\"flavor_text\", StringType(), True)\\\n",
    "                        ,StructField(\"artist_name\", StringType(), True)\\\n",
    "                        ,StructField(\"card_name\", StringType(), True)\\\n",
    "                        ,StructField(\"card_code\", StringType(), True)\\\n",
    "                        ,StructField(\"keyword_1\", StringType(), True)\\\n",
    "                        ,StructField(\"keyword_2\", StringType(), True)\\\n",
    "                        ,StructField(\"keyword_3\", StringType(), True)\\\n",
    "                        ,StructField(\"spell_speed\", StringType(), True)\\\n",
    "                        ,StructField(\"rarity\", StringType(), True)\\\n",
    "                        ,StructField(\"affiliation\", StringType(), True)\\\n",
    "                        ,StructField(\"type\", StringType(), True)\\\n",
    "                        ,StructField(\"collectible\", StringType(), True)\\\n",
    "                        ,StructField(\"set_number\", IntegerType(), True)\\\n",
    "                        ,StructField(\"set_name\", StringType(), True)\\\n",
    "                        ,StructField(\"level\", StringType(), True) \n",
    "                        ,StructField(\"id\", StringType(), True)\\\n",
    "                ])\n",
    "\n",
    "\n",
    "for key in regions_data:\n",
    "    dataframe = spark.createDataFrame(regions_data[key], schema = df_schema);\n",
    "    dataframe.select('*').write.format('jdbc') \\\n",
    "           .mode('append') \\\n",
    "           .option('url', f\"jdbc:sqlserver://localhost:1433;databaseName={database};\") \\\n",
    "           .option('dbtable', key.split('.')[0]) \\\n",
    "           .option('user', user) \\\n",
    "           .option('password', password) \\\n",
    "           .option('driver', \"com.microsoft.sqlserver.jdbc.SQLServerDriver\") \\\n",
    "           .save()"
   ]
  }
 ],
 "metadata": {
  "kernelspec": {
   "display_name": "Python 3 (ipykernel)",
   "language": "python",
   "name": "python3"
  },
  "language_info": {
   "codemirror_mode": {
    "name": "ipython",
    "version": 3
   },
   "file_extension": ".py",
   "mimetype": "text/x-python",
   "name": "python",
   "nbconvert_exporter": "python",
   "pygments_lexer": "ipython3",
   "version": "3.9.5"
  }
 },
 "nbformat": 4,
 "nbformat_minor": 5
}
